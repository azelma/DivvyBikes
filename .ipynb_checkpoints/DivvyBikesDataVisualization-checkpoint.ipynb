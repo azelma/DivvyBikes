{
 "cells": [
  {
   "cell_type": "code",
   "execution_count": 114,
   "metadata": {
    "collapsed": false
   },
   "outputs": [],
   "source": [
    "# import Python data analysis and plotting tools\n",
    "import numpy as np; import pandas as pd\n",
    "from pandas import DataFrame, Series\n",
    "import matplotlib\n",
    "import matplotlib.pyplot as plt\n",
    "import random\n",
    "import json\n",
    "import urllib, simplejson\n",
    "# mapping functionality\n",
    "from mpl_toolkits.basemap import Basemap"
   ]
  },
  {
   "cell_type": "code",
   "execution_count": 115,
   "metadata": {
    "collapsed": false
   },
   "outputs": [],
   "source": [
    "# Read data on trips made in 2013 from csv\n",
    "location_data = pd.read_csv('Divvy_Stations_Trips_2013/Divvy_Stations_2013.csv', dtype='unicode')\n",
    "trip_data = pd.read_csv('Divvy_Stations_Trips_2013/Divvy_Trips_2013.csv', dtype='unicode')\n",
    "location_data = location_data.set_index(\"id\")\n",
    "trip_data = trip_data.set_index(\"trip_id\")"
   ]
  },
  {
   "cell_type": "code",
   "execution_count": 116,
   "metadata": {
    "collapsed": false
   },
   "outputs": [],
   "source": [
    "# Coordinates of landmarks to be included on map for geographical context\n",
    "landmarks = ['University of Chicago', 'Millennium Park', 'Willis Tower', 'Wrigley Field', 'Field Museum']\n",
    "lats = [41.7897, 41.8827, 41.8789, 41.9483, 41.8663]\n",
    "longs = [-87.5997, -87.6227, -87.6358, -87.6556, -87.6170]"
   ]
  },
  {
   "cell_type": "code",
   "execution_count": 117,
   "metadata": {
    "collapsed": false
   },
   "outputs": [],
   "source": [
    "# Drop some superfluous columns\n",
    "trip_data.drop(['gender', 'birthday'],inplace=True,axis=1)\n",
    "# Make sure numeric fields are seen as correct data types\n",
    "trip_data[['bikeid', 'tripduration', 'from_station_id', 'to_station_id']] = trip_data[['bikeid', 'tripduration', 'from_station_id', 'to_station_id']].astype(int)\n",
    "location_data[['longitude', 'latitude']] = location_data[['longitude', 'latitude']].astype(float)"
   ]
  },
  {
   "cell_type": "code",
   "execution_count": 118,
   "metadata": {
    "collapsed": false
   },
   "outputs": [],
   "source": [
    "# Build a dataframe of trips, grouped by originating and terminal station id, \n",
    "# the number of trips of to/from those stations, and the average length of those trips\n",
    "trip_summary = trip_data[['from_station_id', 'to_station_id', 'tripduration']]\n",
    "trip_summary = trip_summary.groupby(['from_station_id', 'to_station_id'])['tripduration'].agg({'number_trips': len, 'avg_duration': np.mean})"
   ]
  },
  {
   "cell_type": "code",
   "execution_count": 119,
   "metadata": {
    "collapsed": false
   },
   "outputs": [],
   "source": [
    "# Count the number of trips to and from each station\n",
    "trips_from = DataFrame(trip_data.groupby(\"from_station_id\").size())\n",
    "trips_to = DataFrame(trip_data.groupby(\"to_station_id\").size())"
   ]
  },
  {
   "cell_type": "code",
   "execution_count": 120,
   "metadata": {
    "collapsed": false
   },
   "outputs": [],
   "source": [
    "trips_from.index.names = [\"station_id\"]\n",
    "trips_to.index.names = [\"station_id\"]\n",
    "trips_from.columns = ['number_trips_from']\n",
    "trips_to.columns = ['number_trips_to']\n",
    "trip_counts = trips_to.join(trips_from)"
   ]
  },
  {
   "cell_type": "code",
   "execution_count": 121,
   "metadata": {
    "collapsed": false
   },
   "outputs": [],
   "source": [
    "# Calculate the difference in number of trips starting vs ending at a station\n",
    "trip_counts['diff'] = trip_counts['number_trips_to'] - trip_counts['number_trips_from']"
   ]
  },
  {
   "cell_type": "code",
   "execution_count": 122,
   "metadata": {
    "collapsed": false
   },
   "outputs": [],
   "source": [
    "# Join this with the table of latitudes and longitudes so that it can be plotted on a map\n",
    "trip_counts = trip_counts.join(location_data[['latitude','longitude']])"
   ]
  },
  {
   "cell_type": "code",
   "execution_count": 123,
   "metadata": {
    "collapsed": false
   },
   "outputs": [],
   "source": [
    "# Make a figure\n",
    "fig = plt.figure()\n",
    "fig.set_size_inches(5,10)\n",
    "# Map of the city of Chicago\n",
    "map = Basemap(projection='merc', lat_0=41.8, lon_0=-87.5,\n",
    "    resolution = 'h', area_thresh = 0.1,\n",
    "    llcrnrlon=-87.71, llcrnrlat=41.78,\n",
    "    urcrnrlon=-87.575, urcrnrlat=41.98)\n",
    "map.drawcoastlines()\n",
    "map.drawcountries()\n",
    "# Color it in\n",
    "map.fillcontinents(color='#AAF2AA', lake_color=\"#BAE5E8\")\n",
    "for ix, row in trip_counts.iterrows():\n",
    "    to_dotsize = row['number_trips_to']/629\n",
    "    from_dotsize = row['number_trips_to']/652\n",
    "    if to_dotsize < 1:\n",
    "        to_dotsize = 1\n",
    "    if from_dotsize < 1:\n",
    "        from_dotsize = 1\n",
    "    x, y = map(row['longitude'], row['latitude'])\n",
    "    map.plot(x, y, 'bo', alpha = 0.5, markersize=to_dotsize)\n",
    "    map.plot(x, y, 'ro', alpha = 0.5, markersize=from_dotsize)\n",
    "for i in range(0, len(landmarks)):\n",
    "    x, y = map(longs[i],lats[i])\n",
    "    plt.text(x,y, landmarks[i])\n",
    "plt.savefig(\"mostused.png\")\n",
    "plt.close(fig)"
   ]
  },
  {
   "cell_type": "code",
   "execution_count": 124,
   "metadata": {
    "collapsed": false
   },
   "outputs": [],
   "source": [
    "fig = plt.figure()\n",
    "fig.set_size_inches(5,10)\n",
    "map = Basemap(projection='merc', lat_0=41.8, lon_0=-87.5,\n",
    "    resolution = 'h', area_thresh = 0.1,\n",
    "    llcrnrlon=-87.71, llcrnrlat=41.78,\n",
    "    urcrnrlon=-87.575, urcrnrlat=41.98)\n",
    "map.drawcoastlines()\n",
    "map.drawcountries()\n",
    "map.fillcontinents(color='#AAF2AA', lake_color=\"#BAE5E8\") \n",
    "for ix, row in trip_counts.iterrows():\n",
    "    dotsize = abs(row['diff'])/50\n",
    "    if dotsize < 1:\n",
    "        dotsize = 1\n",
    "    if row['diff'] > 0:\n",
    "        color = 'go'\n",
    "    else:\n",
    "        color = 'ro'\n",
    "    x, y = map(row['longitude'], row['latitude'])\n",
    "    map.plot(x, y, color, alpha=0.5, markersize=dotsize)\n",
    "for i in range(0, len(landmarks)):\n",
    "    x, y = map(longs[i],lats[i])\n",
    "    plt.text(x,y, landmarks[i])\n",
    "plt.savefig(\"diffs.png\")\n",
    "plt.close(fig)"
   ]
  },
  {
   "cell_type": "code",
   "execution_count": 125,
   "metadata": {
    "collapsed": false
   },
   "outputs": [],
   "source": [
    "top_trips = trip_summary.sort(['number_trips'], ascending=False)"
   ]
  },
  {
   "cell_type": "code",
   "execution_count": 126,
   "metadata": {
    "collapsed": false
   },
   "outputs": [],
   "source": [
    "top_trips = top_trips.head(100)"
   ]
  },
  {
   "cell_type": "code",
   "execution_count": 127,
   "metadata": {
    "collapsed": false
   },
   "outputs": [],
   "source": [
    "fig = plt.figure()\n",
    "fig.set_size_inches(5,10)\n",
    "map = Basemap(projection='merc', lat_0=41.8, lon_0=-87.5,\n",
    "    resolution = 'h', area_thresh = 0.1,\n",
    "    llcrnrlon=-87.71, llcrnrlat=41.78,\n",
    "    urcrnrlon=-87.575, urcrnrlat=41.98)\n",
    "map.drawcoastlines()\n",
    "map.drawcountries()\n",
    "map.fillcontinents(color='#AAF2AA', lake_color=\"#BAE5E8\") \n",
    "for ix, row in top_trips.iterrows():\n",
    "    width = row['number_trips']/100\n",
    "    startlat = location_data['latitude'][ix[0]]\n",
    "    startlong = location_data['longitude'][ix[0]]\n",
    "    endlat = location_data['latitude'][ix[1]]\n",
    "    endlong = location_data['longitude'][ix[1]]\n",
    "    map.drawgreatcircle(startlong,startlat,endlong,endlat, alpha=0.2, linewidth=width,color='red')\n",
    "for i in range(0, len(landmarks)):\n",
    "    x, y = map(longs[i],lats[i])\n",
    "    plt.text(x,y, landmarks[i])\n",
    "plt.savefig(\"trips.png\")"
   ]
  },
  {
   "cell_type": "code",
   "execution_count": 128,
   "metadata": {
    "collapsed": false
   },
   "outputs": [],
   "source": [
    "top_trips.to_csv('toptrips.csv', encoding='utf-8')\n",
    "# import cleaned-up Google maps data containing travel times\n",
    "travel_times = pd.read_csv('trip_output.csv', sep=';')\n",
    "travel_times = travel_times.set_index(\"Unnamed: 0\")\n",
    "travel_times.index.names = ['id']"
   ]
  },
  {
   "cell_type": "code",
   "execution_count": 129,
   "metadata": {
    "collapsed": false
   },
   "outputs": [],
   "source": [
    "def ssxx(data):\n",
    "    mean = sum(data)/len(data)\n",
    "    result = 0\n",
    "    for item in data:\n",
    "        result = result + pow(item - mean, 2)\n",
    "    return result\n",
    "    \n",
    "def ssxy(x, y):\n",
    "    meanx = sum(x)/len(x)\n",
    "    meany = sum(y)/len(y)\n",
    "    result = 0\n",
    "    for key, value in y.iteritems():\n",
    "        result = result + ((x[key] - meanx) * (y[key] - meany))\n",
    "    return result\n",
    "\n",
    "def ssr(x, y, b0, b1):\n",
    "    result = 0\n",
    "    for key, value in y.iteritems():\n",
    "        result = result + math.pow(y[key] - (b0 + b1 * x[key]), 2)\n",
    "    return result\n",
    "\n",
    "def regression_figure(x, y):\n",
    "    plt.scatter(x,y)\n",
    "    b1 = ssxy(x,y)/ssxx(x)\n",
    "    b0 = sum(y)/len(y) - (b1 * sum(x)/len(x))\n",
    "    diff = x.max() - x.min()\n",
    "    start = x.min()\n",
    "    linex = []\n",
    "    for i in range(0, 11):\n",
    "        linex.append(start + (i * diff/10))\n",
    "    liney = []\n",
    "    for item in linex:\n",
    "        liney.append(b0 + b1 * item)\n",
    "    plt.plot(linex, liney, linewidth=2.0, color='black')"
   ]
  },
  {
   "cell_type": "code",
   "execution_count": 131,
   "metadata": {
    "collapsed": false
   },
   "outputs": [],
   "source": [
    "x = travel_times['biking_time']\n",
    "y = travel_times['transit_time']\n",
    "plt.xlabel('Estimated biking time (seconds)')\n",
    "plt.ylabel('Estimated public transit time (seconds)')\n",
    "regression_figure(travel_times['biking_time'],travel_times['transit_time'])\n",
    "plt.savefig(\"bike_vs_transit.png\")\n",
    "plt.close()"
   ]
  },
  {
   "cell_type": "code",
   "execution_count": 132,
   "metadata": {
    "collapsed": false
   },
   "outputs": [],
   "source": [
    "regression_figure(travel_times['biking_time'], travel_times['avg_duration'])\n",
    "plt.xlabel('Estimated bike time (seconds)')\n",
    "plt.ylabel('Average rental duration (seconds)')\n",
    "plt.axhline(y = 1800, color='red')\n",
    "plt.savefig(\"bike_vs_actual.png\")\n",
    "plt.close()"
   ]
  },
  {
   "cell_type": "code",
   "execution_count": 134,
   "metadata": {
    "collapsed": false
   },
   "outputs": [],
   "source": [
    "regression_figure(travel_times['transit_time'],travel_times['avg_duration'])\n",
    "plt.xlabel('Estimated transit time (seconds)')\n",
    "plt.ylabel('Average rental duration (seconds)')\n",
    "plt.axhline(y = 1800, color='red')\n",
    "plt.savefig(\"transit_vs_actual.png\")\n",
    "plt.close()"
   ]
  }
 ],
 "metadata": {
  "kernelspec": {
   "display_name": "Python 3",
   "language": "python",
   "name": "python3"
  },
  "language_info": {
   "codemirror_mode": {
    "name": "ipython",
    "version": 3
   },
   "file_extension": ".py",
   "mimetype": "text/x-python",
   "name": "python",
   "nbconvert_exporter": "python",
   "pygments_lexer": "ipython3",
   "version": "3.4.0"
  }
 },
 "nbformat": 4,
 "nbformat_minor": 0
}
